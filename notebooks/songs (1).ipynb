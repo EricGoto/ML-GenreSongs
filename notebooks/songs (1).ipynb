{
 "cells": [
  {
   "cell_type": "markdown",
   "id": "UxRVobXbVfFi",
   "metadata": {
    "id": "UxRVobXbVfFi"
   },
   "source": [
    "# Music Genre Classification using Machine Learning"
   ]
  },
  {
   "cell_type": "markdown",
   "id": "H5vEkbSdVggg",
   "metadata": {
    "id": "H5vEkbSdVggg"
   },
   "source": [
    " Use machine learning to train a model to classify audio tracks into genres. According to their “research” a machine learning model should be able to label the tracks into genres more accurately."
   ]
  },
  {
   "cell_type": "code",
   "execution_count": 1,
   "id": "7dd1171f",
   "metadata": {
    "id": "7dd1171f"
   },
   "outputs": [],
   "source": [
    "# import visualisation libraries\n",
    "import pandas as pd\n",
    "import seaborn as sns\n",
    "import numpy as np\n",
    "import matplotlib.pyplot as plt\n",
    "from sklearn import preprocessing\n",
    "from sklearn.preprocessing import MinMaxScaler\n",
    "from sklearn.model_selection import train_test_split\n",
    "from xgboost import XGBClassifier\n",
    "from sklearn.ensemble import RandomForestClassifier\n",
    "from sklearn.metrics import accuracy_score, recall_score, precision_score, f1_score, confusion_matrix, classification_report, ConfusionMatrixDisplay\n",
    "import os\n",
    "\n"
   ]
  },
  {
   "cell_type": "code",
   "execution_count": 2,
   "id": "DwvwF8hY6NWU",
   "metadata": {
    "colab": {
     "base_uri": "https://localhost:8080/"
    },
    "id": "DwvwF8hY6NWU",
    "outputId": "9f471084-f129-41e2-b41c-8a08ffb6eb5e"
   },
   "outputs": [
    {
     "ename": "ModuleNotFoundError",
     "evalue": "No module named 'google'",
     "output_type": "error",
     "traceback": [
      "\u001b[1;31m---------------------------------------------------------------------------\u001b[0m",
      "\u001b[1;31mModuleNotFoundError\u001b[0m                       Traceback (most recent call last)",
      "Cell \u001b[1;32mIn[2], line 1\u001b[0m\n\u001b[1;32m----> 1\u001b[0m \u001b[38;5;28;01mfrom\u001b[39;00m \u001b[38;5;21;01mgoogle\u001b[39;00m\u001b[38;5;21;01m.\u001b[39;00m\u001b[38;5;21;01mcolab\u001b[39;00m \u001b[38;5;28;01mimport\u001b[39;00m drive\n\u001b[0;32m      2\u001b[0m drive\u001b[38;5;241m.\u001b[39mmount(\u001b[38;5;124m'\u001b[39m\u001b[38;5;124m/content/drive\u001b[39m\u001b[38;5;124m'\u001b[39m)\n\u001b[0;32m      3\u001b[0m os\u001b[38;5;241m.\u001b[39mchdir(\u001b[38;5;124m'\u001b[39m\u001b[38;5;124m/content/drive/MyDrive/Colab Notebooks/Machine_learning\u001b[39m\u001b[38;5;124m'\u001b[39m)\n",
      "\u001b[1;31mModuleNotFoundError\u001b[0m: No module named 'google'"
     ]
    },
    {
     "ename": "ModuleNotFoundError",
     "evalue": "No module named 'google'",
     "output_type": "error",
     "traceback": [
      "\u001b[1;31m---------------------------------------------------------------------------\u001b[0m",
      "\u001b[1;31mModuleNotFoundError\u001b[0m                       Traceback (most recent call last)",
      "Cell \u001b[1;32mIn[2], line 1\u001b[0m\n\u001b[1;32m----> 1\u001b[0m \u001b[38;5;28;01mfrom\u001b[39;00m \u001b[38;5;21;01mgoogle\u001b[39;00m\u001b[38;5;21;01m.\u001b[39;00m\u001b[38;5;21;01mcolab\u001b[39;00m \u001b[38;5;28;01mimport\u001b[39;00m drive\n\u001b[0;32m      2\u001b[0m drive\u001b[38;5;241m.\u001b[39mmount(\u001b[38;5;124m'\u001b[39m\u001b[38;5;124m/content/drive\u001b[39m\u001b[38;5;124m'\u001b[39m)\n\u001b[0;32m      3\u001b[0m os\u001b[38;5;241m.\u001b[39mchdir(\u001b[38;5;124m'\u001b[39m\u001b[38;5;124m/content/drive/MyDrive/Colab Notebooks/Machine_learning\u001b[39m\u001b[38;5;124m'\u001b[39m)\n",
      "\u001b[1;31mModuleNotFoundError\u001b[0m: No module named 'google'"
     ]
    }
   ],
   "source": [
    "from google.colab import drive\n",
    "drive.mount('/content/drive')\n",
    "os.chdir('/content/drive/MyDrive/Colab Notebooks/Machine_learning')\n",
    "print(os.getcwd())"
   ]
  },
  {
   "cell_type": "markdown",
   "id": "sb8UrLzMVkQt",
   "metadata": {
    "id": "sb8UrLzMVkQt"
   },
   "source": [
    "# Read and Explore the Data"
   ]
  },
  {
   "cell_type": "code",
   "execution_count": null,
   "id": "74f33df5",
   "metadata": {
    "colab": {
     "base_uri": "https://localhost:8080/",
     "height": 0
    },
    "id": "74f33df5",
    "outputId": "1094271d-959d-4cd3-c32b-e61bf93b82bd"
   },
   "outputs": [],
   "source": [
    "# Read and preview data\n",
    "songs_data = pd.read_csv('Data/songs_data.csv')\n",
    "songs_data.head()"
   ]
  },
  {
   "cell_type": "code",
   "execution_count": null,
   "id": "3ee88115",
   "metadata": {
    "colab": {
     "base_uri": "https://localhost:8080/"
    },
    "id": "3ee88115",
    "outputId": "c76365a0-e46f-4594-9056-540d237fd2d5"
   },
   "outputs": [],
   "source": [
    "# shape of the data\n",
    "songs_data.shape"
   ]
  },
  {
   "cell_type": "code",
   "execution_count": null,
   "id": "6511fc93",
   "metadata": {
    "colab": {
     "base_uri": "https://localhost:8080/"
    },
    "id": "6511fc93",
    "outputId": "b4fb6064-2ae6-4ee2-9856-2894c9d54194"
   },
   "outputs": [],
   "source": [
    "songs_data.info()"
   ]
  },
  {
   "cell_type": "code",
   "execution_count": null,
   "id": "82306c18",
   "metadata": {
    "colab": {
     "base_uri": "https://localhost:8080/",
     "height": 0
    },
    "id": "82306c18",
    "outputId": "5dfba09f-c979-406c-aad5-146145dc2db3"
   },
   "outputs": [],
   "source": [
    "# summary statistics for all the data\n",
    "\n",
    "songs_data.describe()"
   ]
  },
  {
   "cell_type": "code",
   "execution_count": null,
   "id": "7QundG7DZQiR",
   "metadata": {
    "id": "7QundG7DZQiR"
   },
   "outputs": [],
   "source": [
    "def identify_low_variance_features(df, std_threshold):\n",
    "    \"\"\"\n",
    "    This definition can be used to identify features with low varaince\n",
    "\n",
    "    @param df pandas DataFrame\n",
    "    @param std_threshold int\n",
    "\n",
    "    @return a list of features that have low variance\n",
    "    \"\"\"\n",
    "\n",
    "    std_df = pd.DataFrame(df.std()).rename(columns = {0: 'standard_deviation'})\n",
    "\n",
    "    low_var_features = list(std_df[std_df['standard_deviation'] < std_threshold].index)\n",
    "\n",
    "    print(\"number of low variance features:\", len(low_var_features))\n",
    "    print(\"low variance features:\", low_var_features)\n",
    "\n",
    "    return low_var_features"
   ]
  },
  {
   "cell_type": "code",
   "execution_count": null,
   "id": "P78k7lRqZKjo",
   "metadata": {
    "colab": {
     "base_uri": "https://localhost:8080/"
    },
    "id": "P78k7lRqZKjo",
    "outputId": "4136febc-78db-4358-ed5a-6bbc7300b225"
   },
   "outputs": [],
   "source": [
    "# identify features with low std\n",
    "identify_low_variance_features(songs_data, std_threshold=0.01)\n"
   ]
  },
  {
   "cell_type": "markdown",
   "id": "YOlWEUsiVyPa",
   "metadata": {
    "id": "YOlWEUsiVyPa"
   },
   "source": [
    "## Handling Missing Data"
   ]
  },
  {
   "cell_type": "code",
   "execution_count": null,
   "id": "c7f862e0",
   "metadata": {
    "colab": {
     "base_uri": "https://localhost:8080/"
    },
    "id": "c7f862e0",
    "outputId": "410e1dc3-84a6-42cf-dd6c-9dbdb6aa8f7c"
   },
   "outputs": [],
   "source": [
    "# Identify missing data\n",
    "songs_data.isnull().sum()"
   ]
  },
  {
   "cell_type": "code",
   "execution_count": null,
   "id": "ca2a7420",
   "metadata": {
    "colab": {
     "base_uri": "https://localhost:8080/",
     "height": 0
    },
    "id": "ca2a7420",
    "outputId": "b5cfd53a-ff32-4235-ca80-78cfd91e3182"
   },
   "outputs": [],
   "source": [
    "# Check which rows are missing in 'track_artist' column\n",
    "songs_data[songs_data.track_artist.isnull()]"
   ]
  },
  {
   "cell_type": "code",
   "execution_count": null,
   "id": "23b94e96",
   "metadata": {
    "colab": {
     "base_uri": "https://localhost:8080/",
     "height": 0
    },
    "id": "23b94e96",
    "outputId": "27bf24a4-8481-496f-974e-8112984c31c8"
   },
   "outputs": [],
   "source": [
    "# Check which rows are missing in 'track_name' column\n",
    "songs_data[songs_data.track_name.isnull()]"
   ]
  },
  {
   "cell_type": "code",
   "execution_count": null,
   "id": "46b4859d",
   "metadata": {
    "id": "46b4859d"
   },
   "outputs": [],
   "source": [
    "# drop rows with missing data\n",
    "\n",
    "songs_data = songs_data.dropna(inplace=False)"
   ]
  },
  {
   "cell_type": "markdown",
   "id": "jelnD6F1WA2V",
   "metadata": {
    "id": "jelnD6F1WA2V"
   },
   "source": [
    "## Handling Duplicates"
   ]
  },
  {
   "cell_type": "code",
   "execution_count": null,
   "id": "00e265a9",
   "metadata": {
    "colab": {
     "base_uri": "https://localhost:8080/",
     "height": 0
    },
    "id": "00e265a9",
    "outputId": "9eda2be6-2b55-4ff9-b693-074b9140837d"
   },
   "outputs": [],
   "source": [
    "# check if the data has any duplicates\n",
    "\n",
    "songs_data[songs_data.duplicated(keep=False)]\n",
    "\n",
    "# this shows two rows that are duplicated"
   ]
  },
  {
   "cell_type": "code",
   "execution_count": null,
   "id": "cf2c44ee",
   "metadata": {
    "colab": {
     "base_uri": "https://localhost:8080/"
    },
    "id": "cf2c44ee",
    "outputId": "f231e836-7439-4e6f-9127-7b77db735ca6"
   },
   "outputs": [],
   "source": [
    "# going to drop the first appearance of duplicated data\n",
    "\n",
    "print(\"shape of data before dropping, with the duplicates:\", songs_data.shape)\n",
    "\n",
    "songs_data_cleaned = songs_data[~songs_data.duplicated()]\n",
    "\n",
    "print(\"shape of data after dropping the duplictaes:\", songs_data_cleaned.shape)\n",
    "# we dropped one row of data"
   ]
  },
  {
   "cell_type": "code",
   "execution_count": null,
   "id": "WPBLAKTP3YJL",
   "metadata": {
    "colab": {
     "base_uri": "https://localhost:8080/",
     "height": 0
    },
    "id": "WPBLAKTP3YJL",
    "outputId": "39747693-fe21-433a-b6e6-de0f2dae6cee"
   },
   "outputs": [],
   "source": [
    "# Check if it worked\n",
    "songs_data_cleaned[songs_data_cleaned.duplicated(keep=False)]\n"
   ]
  },
  {
   "cell_type": "markdown",
   "id": "_AVHGd66WJWT",
   "metadata": {
    "id": "_AVHGd66WJWT"
   },
   "source": [
    "# Feature Engineering"
   ]
  },
  {
   "cell_type": "markdown",
   "id": "te45RL8LWNrQ",
   "metadata": {
    "id": "te45RL8LWNrQ"
   },
   "source": [
    "We need to encode the types of genres to numbers"
   ]
  },
  {
   "cell_type": "code",
   "execution_count": null,
   "id": "f5b075c3",
   "metadata": {
    "colab": {
     "base_uri": "https://localhost:8080/"
    },
    "id": "f5b075c3",
    "outputId": "2104fff4-18c3-424c-d56e-01caeddd0dc9"
   },
   "outputs": [],
   "source": [
    "# Check which are the different genres we have\n",
    "songs_data_cleaned.genre.unique()"
   ]
  },
  {
   "cell_type": "code",
   "execution_count": null,
   "id": "0baa68c3",
   "metadata": {
    "colab": {
     "base_uri": "https://localhost:8080/"
    },
    "id": "0baa68c3",
    "outputId": "6ac6a456-7b84-41bc-d65e-57d8633b5cc2"
   },
   "outputs": [],
   "source": [
    "# label_encoder object knows how to understand word labels.\n",
    "\n",
    "label_encoder = preprocessing.LabelEncoder()\n",
    "\n",
    "songs_data_cleaned['genre_encode']= label_encoder.fit_transform(songs_data_cleaned['genre'])\n",
    "\n",
    "songs_data_cleaned['genre_encode'].unique()"
   ]
  },
  {
   "cell_type": "code",
   "execution_count": null,
   "id": "7e679c09",
   "metadata": {
    "colab": {
     "base_uri": "https://localhost:8080/",
     "height": 609
    },
    "id": "7e679c09",
    "outputId": "3d8614f8-a44b-4fe1-c848-91d73b192974"
   },
   "outputs": [],
   "source": [
    "# Check if it worked\n",
    "songs_data_cleaned"
   ]
  },
  {
   "cell_type": "code",
   "execution_count": null,
   "id": "lPmax7uLZnLt",
   "metadata": {
    "colab": {
     "base_uri": "https://localhost:8080/",
     "height": 641
    },
    "id": "lPmax7uLZnLt",
    "outputId": "88f56963-09dd-4dca-8919-fb70aeada3b0"
   },
   "outputs": [],
   "source": [
    "# Check the distribution of the target\n",
    "\n",
    "sns.distplot(songs_data_cleaned.genre_encode);\n"
   ]
  },
  {
   "cell_type": "markdown",
   "id": "eHNQz7QZWY8w",
   "metadata": {
    "id": "eHNQz7QZWY8w"
   },
   "source": [
    "### Exploring the data after cleaned"
   ]
  },
  {
   "cell_type": "code",
   "execution_count": null,
   "id": "a23e943b",
   "metadata": {
    "colab": {
     "base_uri": "https://localhost:8080/",
     "height": 884
    },
    "id": "a23e943b",
    "outputId": "39cacb11-5d33-441c-cc54-5988c48223e1"
   },
   "outputs": [],
   "source": [
    "# Correlation matrix\n",
    "df = songs_data_cleaned\n",
    "plt.figure(figsize=(20,12))\n",
    "sns.heatmap(songs_data_cleaned.corr(numeric_only=True),annot=True, linewidth=2)\n",
    "plt.tight_layout()"
   ]
  },
  {
   "cell_type": "code",
   "execution_count": null,
   "id": "OqNc5C5zRnBI",
   "metadata": {
    "id": "OqNc5C5zRnBI"
   },
   "outputs": [],
   "source": [
    "def identify_highly_correlated_features(df, correlation_threshold):\n",
    "    \"\"\"\n",
    "    This definition can be used to identify highly correlated features\n",
    "\n",
    "    @param df pandas DataFrame\n",
    "    @param correlation_threshold int\n",
    "\n",
    "    @return a DataFrame with highly correlated features\n",
    "    \"\"\"\n",
    "\n",
    "    corr_matrix = df.corr(numeric_only = True).abs() # calculate the correlation matrix with\n",
    "    high_corr_var = np.where(corr_matrix >= correlation_threshold) # identify variables that have correlations above defined threshold\n",
    "    high_corr_var = [(corr_matrix.index[x], corr_matrix.columns[y], round(corr_matrix.iloc[x, y], 2))\n",
    "                         for x, y in zip(*high_corr_var) if x != y and x < y] # identify pairs of highly correlated variables\n",
    "\n",
    "    high_corr_var_df = pd.DataFrame(high_corr_var).rename(columns = {0: 'corr_feature',\n",
    "                                                                     1: 'drop_feature',\n",
    "                                                                     2: 'correlation_values'})\n",
    "\n",
    "\n",
    "    if high_corr_var_df.empty:\n",
    "        high_corr_var_df\n",
    "    else:\n",
    "        high_corr_var_df = high_corr_var_df.sort_values(by = 'correlation_values', ascending = False)\n",
    "\n",
    "    return high_corr_var_df\n"
   ]
  },
  {
   "cell_type": "code",
   "execution_count": null,
   "id": "T8fWNfOmRmSl",
   "metadata": {
    "colab": {
     "base_uri": "https://localhost:8080/",
     "height": 49
    },
    "id": "T8fWNfOmRmSl",
    "outputId": "90add92f-51a0-4c25-e624-81c4f2af8a9f"
   },
   "outputs": [],
   "source": [
    "identify_highly_correlated_features(songs_data_cleaned, correlation_threshold=0.9)\n"
   ]
  },
  {
   "cell_type": "markdown",
   "id": "ZWFSMJj7Wjty",
   "metadata": {
    "id": "ZWFSMJj7Wjty"
   },
   "source": [
    "### @@@@@Selecting the feature for the ML model"
   ]
  },
  {
   "cell_type": "code",
   "execution_count": null,
   "id": "23206a81",
   "metadata": {
    "id": "23206a81"
   },
   "outputs": [],
   "source": [
    "# Drop the columns which are least correlated\n",
    "df_cleaned = df.copy()\n",
    "\n",
    "df_cleaned = df_cleaned.drop(['key', 'mode', 'liveness'], axis=1)\n"
   ]
  },
  {
   "cell_type": "code",
   "execution_count": null,
   "id": "1JRRsZUR5htu",
   "metadata": {
    "colab": {
     "base_uri": "https://localhost:8080/",
     "height": 609
    },
    "id": "1JRRsZUR5htu",
    "outputId": "be689297-60f4-4fcd-b9cb-25d957bec671"
   },
   "outputs": [],
   "source": [
    "df_cleaned"
   ]
  },
  {
   "cell_type": "code",
   "execution_count": null,
   "id": "0ffc96cb",
   "metadata": {
    "colab": {
     "base_uri": "https://localhost:8080/",
     "height": 853
    },
    "id": "0ffc96cb",
    "outputId": "eae97def-1426-47ee-c0e8-f8366ef3593f"
   },
   "outputs": [],
   "source": [
    "# Check the distribution of the features & the target\n",
    "df_cleaned.hist(figsize=(10, 10));"
   ]
  },
  {
   "cell_type": "markdown",
   "id": "0mVBcWIsXBjk",
   "metadata": {
    "id": "0mVBcWIsXBjk"
   },
   "source": [
    "### Looking for outliers"
   ]
  },
  {
   "cell_type": "code",
   "execution_count": null,
   "id": "3UcJFItneyAW",
   "metadata": {
    "colab": {
     "base_uri": "https://localhost:8080/",
     "height": 1000
    },
    "id": "3UcJFItneyAW",
    "outputId": "de762251-ae57-48bb-a3fe-f38a397995b1"
   },
   "outputs": [],
   "source": [
    "# Specify the columns for box plots\n",
    "columns = ['track_popularity','danceability', 'energy', 'loudness', 'speechiness',\n",
    "           'acousticness', 'instrumentalness', 'valence', 'tempo',\n",
    "           'duration_ms']\n",
    "\n",
    "# Create subplots for each column\n",
    "fig, axs = plt.subplots(nrows=len(columns), figsize=(10, 50))\n",
    "\n",
    "# Generate box plots for each column\n",
    "for i, column in enumerate(columns):\n",
    "    sns.boxplot(x=df_cleaned[column], color='red', ax=axs[i])\n",
    "    axs[i].set_title(column)\n",
    "\n",
    "plt.tight_layout()\n",
    "plt.show()\n"
   ]
  },
  {
   "cell_type": "code",
   "execution_count": null,
   "id": "FgfjYqzG-pwc",
   "metadata": {
    "colab": {
     "base_uri": "https://localhost:8080/"
    },
    "id": "FgfjYqzG-pwc",
    "outputId": "8daa1da7-c1b3-4d40-e259-e3036809ab5b"
   },
   "outputs": [],
   "source": [
    "lista=['track_popularity','danceability', 'energy', 'loudness', 'speechiness',\n",
    "           'acousticness', 'instrumentalness', 'valence','tempo',\n",
    "           'duration_ms', 'genre_encode']\n",
    "for column in lista:\n",
    "    q1 = np.nanpercentile(df_cleaned[column], 25)\n",
    "    q3 = np.nanpercentile(df_cleaned[column], 75)\n",
    "\n",
    "    iqr = q3 - q1\n",
    "    UB = q3 + 1.5 * iqr\n",
    "    LB = q1 - 1.5 * iqr\n",
    "\n",
    "    print(\"Column:\", column)\n",
    "    print(\"25th percentile:\", q1)\n",
    "    print(\"75th percentile:\", q3)\n",
    "    print(\"IQR:\", iqr)\n",
    "    print(\"Upper Bound (UB):\", UB)\n",
    "    print(\"Lower Bound (LB):\", LB)\n",
    "\n",
    "    outliers = df_cleaned[(df_cleaned[column] > UB) | (df_cleaned[column] < LB)]\n",
    "    num_outliers = outliers.shape[0]\n",
    "\n",
    "    print(\"Values above\", UB, \"and values below\", LB, \"are outliers\")\n",
    "    print(\"Number of outliers:\", num_outliers)\n",
    "    print()  # Adding an empty line for readability"
   ]
  },
  {
   "cell_type": "markdown",
   "id": "OkVmqAehWzbV",
   "metadata": {
    "id": "OkVmqAehWzbV"
   },
   "source": [
    "## Building the ML Model"
   ]
  },
  {
   "cell_type": "code",
   "execution_count": null,
   "id": "7960b373",
   "metadata": {
    "id": "7960b373"
   },
   "outputs": [],
   "source": [
    "# define our feature and target\n",
    "target = df_cleaned.genre_encode\n",
    "features = df_cleaned.drop(['genre','genre_encode','track_id','track_name','track_artist'], axis = 1)"
   ]
  },
  {
   "cell_type": "markdown",
   "id": "G1YzyZU1W3c6",
   "metadata": {
    "id": "G1YzyZU1W3c6"
   },
   "source": [
    "#### Scale of the features"
   ]
  },
  {
   "cell_type": "code",
   "execution_count": null,
   "id": "5ebc02cc",
   "metadata": {
    "colab": {
     "base_uri": "https://localhost:8080/"
    },
    "id": "5ebc02cc",
    "outputId": "ceb8104b-c423-4dc7-bb6a-1bd77c9afc1c"
   },
   "outputs": [],
   "source": [
    "scaler = MinMaxScaler()\n",
    "scaler.fit(features)\n",
    "features_scaled = scaler.transform(features)\n",
    "\n",
    "features_scaled"
   ]
  },
  {
   "cell_type": "code",
   "execution_count": null,
   "id": "k9zDzGGdBsDp",
   "metadata": {
    "colab": {
     "base_uri": "https://localhost:8080/",
     "height": 424
    },
    "id": "k9zDzGGdBsDp",
    "outputId": "ac699a94-5b5d-4f4e-995e-045bd64f1831"
   },
   "outputs": [],
   "source": [
    "df_scaled = pd.DataFrame(features_scaled)\n",
    "df_scaled"
   ]
  },
  {
   "cell_type": "code",
   "execution_count": null,
   "id": "d9ce249c",
   "metadata": {
    "colab": {
     "base_uri": "https://localhost:8080/"
    },
    "id": "d9ce249c",
    "outputId": "6c6ea5e7-791f-438a-ac1c-ad2ee28d7cee"
   },
   "outputs": [],
   "source": [
    "# the shape of the features data frame and the scaled features are the same\n",
    "print(features.shape)\n",
    "print(features_scaled.shape)"
   ]
  },
  {
   "cell_type": "markdown",
   "id": "yHtFLVFeXKVZ",
   "metadata": {
    "id": "yHtFLVFeXKVZ"
   },
   "source": [
    "# Random Forest Model"
   ]
  },
  {
   "cell_type": "code",
   "execution_count": null,
   "id": "445155da",
   "metadata": {
    "id": "445155da"
   },
   "outputs": [],
   "source": [
    "# split the song data into training and test data\n",
    "\n",
    "X_train_scaled, X_test_scaled, y_train, y_test = train_test_split(features_scaled,\n",
    "                                                                  target,\n",
    "                                                                  test_size = 0.3,\n",
    "                                                                  random_state = 8)"
   ]
  },
  {
   "cell_type": "code",
   "execution_count": null,
   "id": "9c0f2e54",
   "metadata": {
    "colab": {
     "base_uri": "https://localhost:8080/"
    },
    "id": "9c0f2e54",
    "outputId": "1516906f-57c1-407f-b84a-709626dc63b8"
   },
   "outputs": [],
   "source": [
    "# print the shape of the training data\n",
    "\n",
    "print(\"Training Data\")\n",
    "print(\"Shape of X_train\", X_train_scaled.shape)\n",
    "print(\"Shape of y_train\", y_train.shape)"
   ]
  },
  {
   "cell_type": "code",
   "execution_count": null,
   "id": "Pr1SiR9-gIvt",
   "metadata": {
    "colab": {
     "base_uri": "https://localhost:8080/"
    },
    "id": "Pr1SiR9-gIvt",
    "outputId": "c1f70a1a-2370-4d31-8d31-d508ca7c31fe"
   },
   "outputs": [],
   "source": [
    "type(X_train_scaled)"
   ]
  },
  {
   "cell_type": "code",
   "execution_count": null,
   "id": "5311534b",
   "metadata": {
    "colab": {
     "base_uri": "https://localhost:8080/",
     "height": 75
    },
    "id": "5311534b",
    "outputId": "dab2908f-35b5-4bd1-c075-11e487415971"
   },
   "outputs": [],
   "source": [
    "# Import and Fit the Random Forest Model\n",
    "\n",
    "clf_rf = RandomForestClassifier()\n",
    "\n",
    "clf_rf.fit(X_train_scaled, y_train)"
   ]
  },
  {
   "cell_type": "code",
   "execution_count": null,
   "id": "a113ec0c",
   "metadata": {
    "colab": {
     "base_uri": "https://localhost:8080/"
    },
    "id": "a113ec0c",
    "outputId": "37e05f07-7048-4895-ff24-f3b1e8d8d794"
   },
   "outputs": [],
   "source": [
    "# Make predictions on unseen data\n",
    "\n",
    "y_pred_rf = clf_rf.predict(X_test_scaled)\n",
    "y_pred_rf"
   ]
  },
  {
   "cell_type": "code",
   "execution_count": null,
   "id": "2357a6dc",
   "metadata": {
    "colab": {
     "base_uri": "https://localhost:8080/"
    },
    "id": "2357a6dc",
    "outputId": "774c1d57-986d-489f-a7f7-01a0858c7c00"
   },
   "outputs": [],
   "source": [
    "print(\"first five predicted values:\", y_pred_rf[0:5])\n",
    "print(\"first five actual values:\", list(y_test[0:5]))"
   ]
  },
  {
   "cell_type": "code",
   "execution_count": null,
   "id": "ec671885",
   "metadata": {
    "colab": {
     "base_uri": "https://localhost:8080/"
    },
    "id": "ec671885",
    "outputId": "11175335-2bb2-4988-9e0a-38b15bf62465"
   },
   "outputs": [],
   "source": [
    "from sklearn.metrics import accuracy_score, recall_score, precision_score, f1_score\n",
    "\n",
    "print(\"accuracy:\", round(accuracy_score(y_test, y_pred_rf), 2))\n",
    "print(\"recall:\", round(recall_score(y_test, y_pred_rf, average='macro'), 2))\n",
    "print(\"precision:\", round(precision_score(y_test, y_pred_rf, average='macro'), 2))\n",
    "print(\"f1-score:\", round(f1_score(y_test, y_pred_rf, average='macro'), 2))\n"
   ]
  },
  {
   "cell_type": "code",
   "execution_count": null,
   "id": "075e0db0",
   "metadata": {
    "colab": {
     "base_uri": "https://localhost:8080/",
     "height": 449
    },
    "id": "075e0db0",
    "outputId": "847ac9fe-46b4-4260-d845-4ddac18e1185"
   },
   "outputs": [],
   "source": [
    "# plot confusion matrix\n",
    "\n",
    "cm = confusion_matrix(y_test, y_pred_rf)\n",
    "disp = ConfusionMatrixDisplay(confusion_matrix=cm,\n",
    "                               display_labels=clf_rf.classes_)\n",
    "\n",
    "disp.plot()\n",
    "plt.show()"
   ]
  },
  {
   "cell_type": "code",
   "execution_count": null,
   "id": "fc6a1bc2",
   "metadata": {
    "colab": {
     "base_uri": "https://localhost:8080/"
    },
    "id": "fc6a1bc2",
    "outputId": "3f141511-ea1e-49fe-c91c-314a371c89e8"
   },
   "outputs": [],
   "source": [
    "# print classification report\n",
    "\n",
    "print(classification_report(y_test, y_pred_rf))\n"
   ]
  },
  {
   "cell_type": "code",
   "execution_count": null,
   "id": "7TTcDRmUIAN5",
   "metadata": {
    "colab": {
     "base_uri": "https://localhost:8080/",
     "height": 564
    },
    "id": "7TTcDRmUIAN5",
    "outputId": "27267027-f615-4eab-941a-b653d3a663eb"
   },
   "outputs": [],
   "source": [
    "# Get feature importances\n",
    "importances = clf_rf.feature_importances_\n",
    "\n",
    "# Create a DataFrame to store feature names and importances\n",
    "feature_importance_df = pd.DataFrame({'Feature': features.columns, 'Importance': importances})\n",
    "\n",
    "# Sort the features by importance in descending order\n",
    "feature_importance_df = feature_importance_df.sort_values(by='Importance', ascending=False)\n",
    "\n",
    "# Plot the feature importances\n",
    "plt.figure(figsize=(10, 6))\n",
    "sns.barplot(x='Importance', y='Feature', data=feature_importance_df)\n",
    "plt.xlabel('Importance')\n",
    "plt.ylabel('Feature')\n",
    "plt.title('Feature Importance')\n",
    "plt.show()\n"
   ]
  },
  {
   "cell_type": "code",
   "execution_count": null,
   "id": "p7ag2XWfFqIp",
   "metadata": {
    "colab": {
     "base_uri": "https://localhost:8080/",
     "height": 451
    },
    "id": "p7ag2XWfFqIp",
    "outputId": "6d801a33-8fd1-469c-e5f5-b1fd171915dc"
   },
   "outputs": [],
   "source": [
    "from sklearn.metrics import mean_squared_error\n",
    "from matplotlib.legend_handler import HandlerLine2D\n",
    "\n",
    "train_results = []\n",
    "test_results = []\n",
    "list_nb_estimators = [5, 10, 15, 30, 45, 60, 80, 100]\n",
    "\n",
    "for nb_estimators in list_nb_estimators:\n",
    "    clf_rf = RandomForestClassifier(n_estimators=nb_estimators)\n",
    "    clf_rf.fit(X_train_scaled, y_train)\n",
    "\n",
    "    train_results.append(mean_squared_error(y_train, clf_rf.predict(X_train_scaled)))\n",
    "    test_results.append(mean_squared_error(y_test, clf_rf.predict(X_test_scaled)))\n",
    "\n",
    "line1, = plt.plot(list_nb_estimators, train_results, color=\"r\", label=\"Training Score\")\n",
    "line2, = plt.plot(list_nb_estimators, test_results, color=\"g\", label=\"Testing Score\")\n",
    "\n",
    "plt.legend(handler_map={line1: HandlerLine2D(numpoints=1)})\n",
    "plt.ylabel('MSE')\n",
    "plt.xlabel('n_estimators')\n",
    "plt.show()\n"
   ]
  },
  {
   "cell_type": "markdown",
   "id": "-VwXQISjXTBK",
   "metadata": {
    "id": "-VwXQISjXTBK"
   },
   "source": [
    "# XGBoost Model"
   ]
  },
  {
   "cell_type": "code",
   "execution_count": null,
   "id": "72ba1f7a",
   "metadata": {
    "colab": {
     "base_uri": "https://localhost:8080/",
     "height": 779
    },
    "id": "72ba1f7a",
    "outputId": "9001923f-dda1-4f8e-f191-f80242d3fa2e"
   },
   "outputs": [],
   "source": [
    "# Import the required libraries\n",
    "from xgboost import XGBClassifier\n",
    "from sklearn.metrics import accuracy_score, recall_score, precision_score, f1_score, confusion_matrix, classification_report, ConfusionMatrixDisplay\n",
    "\n",
    "# Create an instance of the XGBoost classifier\n",
    "clf_xgb = XGBClassifier()\n",
    "\n",
    "# Fit the classifier on the training data\n",
    "clf_xgb.fit(X_train_scaled, y_train)\n",
    "\n",
    "# Make predictions on unseen data\n",
    "y_pred_xgb = clf_xgb.predict(X_test_scaled)\n",
    "\n",
    "# Print the predicted values and actual values for the first five samples\n",
    "print(\"First five predicted values:\", y_pred_xgb[:5])\n",
    "print(\"First five actual values:\", list(y_test[:5]))\n",
    "\n",
    "# Evaluate the performance of the model\n",
    "print(\"Accuracy:\", round(accuracy_score(y_test, y_pred_xgb), 2))\n",
    "print(\"Recall:\", round(recall_score(y_test, y_pred_xgb, average='macro'), 2))\n",
    "print(\"Precision:\", round(precision_score(y_test, y_pred_xgb, average='macro'), 2))\n",
    "print(\"F1-Score:\", round(f1_score(y_test, y_pred_xgb, average='macro'), 2))\n",
    "\n",
    "# Plot the confusion matrix\n",
    "cm = confusion_matrix(y_test, y_pred_xgb)\n",
    "disp = ConfusionMatrixDisplay(confusion_matrix=cm, display_labels=clf_xgb.classes_)\n",
    "disp.plot()\n",
    "plt.show()\n",
    "\n",
    "# Print the classification report\n",
    "print(classification_report(y_test, y_pred_xgb))\n",
    "\n",
    "\n"
   ]
  },
  {
   "cell_type": "markdown",
   "id": "gFeTtP32ePpT",
   "metadata": {
    "id": "gFeTtP32ePpT"
   },
   "source": [
    "# Random forest with tuning"
   ]
  },
  {
   "cell_type": "code",
   "execution_count": null,
   "id": "xdGfw6T9cHue",
   "metadata": {
    "colab": {
     "base_uri": "https://localhost:8080/",
     "height": 75
    },
    "id": "xdGfw6T9cHue",
    "outputId": "e5d6b276-c166-4eeb-ea3b-e514a4578785"
   },
   "outputs": [],
   "source": [
    "RandomForestClassifier(n_estimators=500)\n"
   ]
  },
  {
   "cell_type": "code",
   "execution_count": null,
   "id": "VUS_XlK-b63v",
   "metadata": {
    "id": "VUS_XlK-b63v"
   },
   "outputs": [],
   "source": [
    "params = {'n_estimators':np.arange(100,500,100),\n",
    "          'max_features':np.arange(0.1,1.0,0.2)\n",
    "         }"
   ]
  },
  {
   "cell_type": "code",
   "execution_count": null,
   "id": "61MbeMOEfNET",
   "metadata": {
    "id": "61MbeMOEfNET"
   },
   "outputs": [],
   "source": []
  }
 ],
 "metadata": {
  "colab": {
   "provenance": []
  },
  "kernelspec": {
   "display_name": "Python 3 (ipykernel)",
   "language": "python",
   "name": "python3"
  },
  "language_info": {
   "codemirror_mode": {
    "name": "ipython",
    "version": 3
   },
   "file_extension": ".py",
   "mimetype": "text/x-python",
   "name": "python",
   "nbconvert_exporter": "python",
   "pygments_lexer": "ipython3",
   "version": "3.10.9"
  }
 },
 "nbformat": 4,
 "nbformat_minor": 5
}
